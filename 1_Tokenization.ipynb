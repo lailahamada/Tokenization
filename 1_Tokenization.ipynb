{
 "cells": [
  {
   "cell_type": "markdown",
   "metadata": {
    "id": "qFVc6Wozi_Sm"
   },
   "source": [
    "![image.png](data:image/png;base64,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)"
   ]
  },
  {
   "cell_type": "code",
   "execution_count": 1,
   "metadata": {
    "colab": {
     "base_uri": "https://localhost:8080/"
    },
    "id": "rjxs5tzji59w",
    "outputId": "c0162d98-8b56-425a-e3b9-d4f30d6fb803"
   },
   "outputs": [
    {
     "name": "stdout",
     "output_type": "stream",
     "text": [
      "['Tokenization', 'is', 'the', 'process', 'of', 'splitting', 'text', 'into', 'individual', 'words.']\n"
     ]
    }
   ],
   "source": [
    "text = \"Tokenization is the process of splitting text into individual words.\"\n",
    "tokens = text.split()\n",
    "\n",
    "print(tokens)"
   ]
  },
  {
   "cell_type": "code",
   "execution_count": null,
   "metadata": {
    "id": "JoYBK77tjnc3"
   },
   "outputs": [],
   "source": [
    "import re\n",
    "text = \"Tokenization is the process of splitting text into individual words.\"\n",
    "\n",
    "# Tokenization using RegEx\n",
    "tokens = re.findall(r'\\b\\w+\\b', text)\n",
    "\n",
    "# Output the tokens\n",
    "print(tokens)"
   ]
  },
  {
   "cell_type": "code",
   "execution_count": null,
   "metadata": {
    "id": "XlRTmPD3jzKg"
   },
   "outputs": [],
   "source": [
    "import nltk\n",
    "from nltk.tokenize import word_tokenize\n",
    "\n",
    "nltk.download('punkt')\n",
    "\n",
    "text = \"Tokenization is the process of splitting text into individual words.\"\n",
    "\n",
    "# Tokenization using NLTK\n",
    "tokens = word_tokenize(text)\n",
    "\n",
    "# Output the tokens\n",
    "print(tokens)"
   ]
  },
  {
   "cell_type": "code",
   "execution_count": null,
   "metadata": {
    "id": "tnjMaei_kMyj"
   },
   "outputs": [],
   "source": [
    "import spacy\n",
    "\n",
    "nlp = spacy.load(\"en_core_web_sm\")\n",
    "\n",
    "text = \"Tokenization is the process of splitting text into individual words.\"\n",
    "\n",
    "# Tokenization using spaCy\n",
    "doc = nlp(text)\n",
    "tokens = [token.text for token in doc]\n",
    "\n",
    "# Output the tokens\n",
    "print(tokens)"
   ]
  },
  {
   "cell_type": "code",
   "execution_count": null,
   "metadata": {
    "id": "RgLeQkTXkcjt"
   },
   "outputs": [],
   "source": [
    "from gensim.utils import simple_preprocess\n",
    "\n",
    "text = \"Tokenization is the process of splitting text into individual words.\"\n",
    "\n",
    "# Tokenization using Gensim\n",
    "tokens = simple_preprocess(text)\n",
    "\n",
    "# Output the tokens\n",
    "print(tokens)"
   ]
  },
  {
   "cell_type": "code",
   "execution_count": null,
   "metadata": {
    "id": "fOvEf473lYbw"
   },
   "outputs": [],
   "source": []
  },
  {
   "cell_type": "markdown",
   "metadata": {
    "id": "v64Q-ufIlZUX"
   },
   "source": [
    "gpt\n",
    "\n",
    "https://platform.openai.com/tokenizer"
   ]
  },
  {
   "cell_type": "markdown",
   "metadata": {
    "id": "5kYiDyzbmG3y"
   },
   "source": [
    "**Stemming**"
   ]
  },
  {
   "cell_type": "code",
   "execution_count": null,
   "metadata": {
    "id": "Sa36MRBklhH9"
   },
   "outputs": [],
   "source": [
    "from nltk.stem import PorterStemmer\n",
    "\n",
    "stemmer = PorterStemmer()\n",
    "\n",
    "s = \"The little girl\"\n",
    "stemmed_words = [stemmer.stem(word) for word in s.split(' ')]\n",
    "\n",
    "print(stemmed_words)"
   ]
  },
  {
   "cell_type": "markdown",
   "metadata": {
    "id": "PJUn6-1ymVae"
   },
   "source": [
    "Lemmatization"
   ]
  },
  {
   "cell_type": "code",
   "execution_count": null,
   "metadata": {
    "id": "cM2wN95OmYaw"
   },
   "outputs": [],
   "source": [
    "import spacy\n",
    "nlp = spacy.load(\"en_core_web_sm\")\n",
    "\n",
    "s = \"The little girl\"\n",
    "doc = nlp(s)\n",
    "\n",
    "lemmatized_words = [token.lemma_ for token in doc]\n",
    "\n",
    "print(lemmatized_words)"
   ]
  },
  {
   "cell_type": "markdown",
   "metadata": {
    "id": "tpSg0jCKojAY"
   },
   "source": [
    "**PoS Tags**\n"
   ]
  },
  {
   "cell_type": "code",
   "execution_count": null,
   "metadata": {
    "id": "kygfrt9hoiUf"
   },
   "outputs": [],
   "source": [
    "# Import the necessary libraries\n",
    "import nltk\n",
    "\n",
    "# Download the necessary NLTK data file\n",
    "nltk.download('averaged_perceptron_tagger')\n",
    "\n",
    "# Example sentence\n",
    "sentence = \"The quick brown fox jumps over the lazy dog.\"\n",
    "\n",
    "# Tokenize the sentence into words using split()\n",
    "words = sentence.split()\n",
    "\n",
    "# Perform PoS tagging\n",
    "pos_tags = nltk.pos_tag(words)\n",
    "\n",
    "# Print the words with their corresponding PoS tags\n",
    "print(pos_tags)"
   ]
  },
  {
   "cell_type": "code",
   "execution_count": null,
   "metadata": {
    "id": "YDVDqMMDqKM9"
   },
   "outputs": [],
   "source": [
    "#nltk.download('tagsets')\n",
    "nltk.help.upenn_tagset('JJ')"
   ]
  },
  {
   "cell_type": "code",
   "execution_count": null,
   "metadata": {
    "id": "CMNqrfpWrzHK"
   },
   "outputs": [],
   "source": []
  }
 ],
 "metadata": {
  "colab": {
   "provenance": []
  },
  "kernelspec": {
   "display_name": "Python 3 (ipykernel)",
   "language": "python",
   "name": "python3"
  },
  "language_info": {
   "codemirror_mode": {
    "name": "ipython",
    "version": 3
   },
   "file_extension": ".py",
   "mimetype": "text/x-python",
   "name": "python",
   "nbconvert_exporter": "python",
   "pygments_lexer": "ipython3",
   "version": "3.9.13"
  }
 },
 "nbformat": 4,
 "nbformat_minor": 1
}
